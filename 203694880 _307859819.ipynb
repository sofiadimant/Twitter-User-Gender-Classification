{
 "cells": [
  {
   "cell_type": "code",
   "execution_count": 1,
   "metadata": {
    "_cell_guid": "b1076dfc-b9ad-4769-8c92-a6c4dae69d19",
    "_uuid": "8f2839f25d086af736a60e9eeb907d3b93b6e0e5"
   },
   "outputs": [
    {
     "name": "stderr",
     "output_type": "stream",
     "text": [
      "Using Theano backend.\n",
      "WARNING (theano.tensor.blas): Using NumPy C-API based implementation for BLAS functions.\n"
     ]
    }
   ],
   "source": [
    "import os\n",
    "import csv\n",
    "import numpy as np\n",
    "import pandas as pd\n",
    "import string\n",
    "os.environ[\"KERAS_BACKEND\"] = \"theano\"\n",
    "import re\n",
    "import json\n",
    "import keras\n",
    "import keras.preprocessing.text as kpt\n",
    "from keras.preprocessing.text import Tokenizer\n",
    "from sklearn.preprocessing import LabelEncoder\n",
    "import nltk\n",
    "from nltk.corpus import stopwords\n",
    "from nltk.stem import PorterStemmer\n",
    "from collections import Counter\n",
    "import matplotlib.pyplot as plt\n",
    "from sklearn.feature_extraction.text import TfidfVectorizer\n",
    "from sklearn.model_selection import train_test_split\n",
    "from keras.models import Sequential\n",
    "from keras.layers import Dense, Dropout, Activation\n",
    "from sklearn.feature_extraction.text import TfidfVectorizer\n",
    "from sklearn.feature_extraction.text import CountVectorizer\n",
    "from sklearn.linear_model import Perceptron\n",
    "from sklearn.pipeline import Pipeline\n",
    "from sklearn.utils.extmath import density\n",
    "from sklearn import metrics\n",
    "from sklearn.model_selection import GridSearchCV\n",
    "from sklearn.naive_bayes import MultinomialNB\n",
    "from sklearn.linear_model import SGDClassifier\n",
    "import warnings; warnings.simplefilter('ignore')\n",
    "from sklearn.linear_model import Perceptron\n"
   ]
  },
  {
   "cell_type": "markdown",
   "metadata": {
    "_uuid": "a6f9ab25f139db8dbc311e72dcf16ea949af648e"
   },
   "source": [
    "#### Global vars"
   ]
  },
  {
   "cell_type": "code",
   "execution_count": 2,
   "metadata": {
    "_uuid": "b49bf3124d8eeaa354ab0ff037a809d20bc524cb"
   },
   "outputs": [],
   "source": [
    "emoticons = r\"\"\"\n",
    "        (?:\n",
    "            [:=;] # \n",
    "            [oO\\-]? # \n",
    "            [D\\)\\]\\(\\]/\\\\OpP] # \n",
    "        )\"\"\"\n",
    "regex = [emoticons,\n",
    "        r'<[^>]+>',  # HTML\n",
    "        r'(?:@[\\w_]+)',  # @ mentions\n",
    "        r'http[s]?://(?:[a-z]|[0-9]|[$-_@.&amp;+]|[!*\\(\\),]|(?:%[0-9a-f][0-9a-f]))+',  # URL\n",
    "        r\"(?:\\#+[\\w_]+[\\w\\'_\\-]*[\\w_]+)\",  # hash tags\n",
    "        r'(?:[\\w_]+)',  # other words\n",
    "        r'(?:\\S)'  # anything else\n",
    "        ]\n",
    "emoticonRegex = re.compile(r'^' + emoticons + '$', re.VERBOSE | re.IGNORECASE)\n",
    "tokens_re = re.compile(r'(' + '|'.join(regex) + ')', re.VERBOSE | re.IGNORECASE)\n",
    "stopWords = set(stopwords.words('english') + list(string.punctuation) + list(\"__\"))\n",
    "stopWords.add('__')\n",
    "stopWords.add('0084b4')\n",
    "stopWords.add('c0deed')\n",
    "stopWords.add('ffffff')\n",
    "stopWords.add('love')\n",
    "stopWords.add('like')\n",
    "stopWords.add('one')\n",
    "stopWords.add('get')\n",
    "stopWords.add('life')\n",
    "stopWords.add('day')\n",
    "stopWords.add('people')\n",
    "stopWords.add('go')\n",
    "stopWords.add('time')\n",
    "stopWords.add('know')\n",
    "stopWords.add('new')\n",
    "stopWords.add('im')\n",
    "stopWords.add('want')\n",
    "stopWords.add('good')\n",
    "stopWords.add('make')\n",
    "stopWords.add('eeeeee')\n",
    "stopWords.add('got')\n",
    "stopWords.add('amp')\n",
    "stopWords.add('need')\n",
    "stopWords.add('best')"
   ]
  },
  {
   "cell_type": "markdown",
   "metadata": {
    "_uuid": "2506e93256434cebd098333eb87d4326c1f1730e"
   },
   "source": [
    "# Question 1: test pre-processing and data exploration\n"
   ]
  },
  {
   "cell_type": "code",
   "execution_count": 3,
   "metadata": {
    "_uuid": "ace5854d987f3738b8fc573ae83811769bf95801",
    "scrolled": true
   },
   "outputs": [],
   "source": [
    "#read the tweets file\n",
    "df = pd.read_csv('../input/genderclassifierdfe791531csv/gender-classifier-DFE-791531.csv', encoding = \"ISO-8859-1\")\n",
    "\n",
    "#Get only the rows with the genders\n",
    "data = df.loc[df['gender'].isin(['female', 'male'])]\n",
    "\n",
    "#if one of the coloums 'text' or 'description' is missing, concatinate it as a dot\n",
    "data.loc[df['text'].isnull(),'text'] = \" \"\n",
    "data.loc[df['description'].isnull(),'description'] = \" \"\n",
    "data = data[ data['gender:confidence'] > 0.5 ]\n",
    "\n",
    "#list of all final processind data witch includes text, description, link_color and sidebar_color columns in a one string.\n",
    "tweets = data[\"text\"].map(str) + \" \"+ data[\"description\"]+\" \"+ data[\"link_color\"]+ \" \"+data[\"sidebar_color\"]\n",
    "\n",
    "#processed tweets with gender classification each\n",
    "tweetsWithGender = pd.DataFrame({'tweets': tweets, 'gender': data[\"gender\"]}, columns=['tweets', 'gender'])\n"
   ]
  },
  {
   "cell_type": "code",
   "execution_count": 4,
   "metadata": {
    "_uuid": "a25965b587820aa61bc2a3113d332f429811b70e"
   },
   "outputs": [],
   "source": [
    "# tokenization function that gets one tweet each time\n",
    "def tokenization(tweet):\n",
    "    tweet = re.sub(r'[^\\x00-\\x7f]*', r'', tweet)\n",
    "    tokens = tokens_re.findall(tweet)\n",
    "    tokens = [token if emoticonRegex.search(token) else token.lower() for token in tokens]\n",
    "    ##empty array to be filled with clean tweets\n",
    "    tweetTokens = [] \n",
    "    for token in tokens:\n",
    "        if token not in stopWords and not token.isdigit() and len(token) > 1:\n",
    "            tweetTokens.append(token)\n",
    "    return tweetTokens"
   ]
  },
  {
   "cell_type": "code",
   "execution_count": 5,
   "metadata": {
    "_uuid": "c2a404c50be3edc14735bcfda819be5ff00e12ff"
   },
   "outputs": [],
   "source": [
    "# tokenized tweets array\n",
    "tweetsNew = []\n",
    "for i in tweets:\n",
    "    tweetsNew.append(tokenization(i))\n",
    "\n",
    "# tokenized tweets with gender \n",
    "tweetsNewWithGender = []\n",
    "for index, row in tweetsWithGender.iterrows():\n",
    "    tweetsNewWithGender.append([tokenization(row['tweets']),row['gender']])\n",
    "    \n",
    "# tweets texts \n",
    "TextTweetsNew =[]\n",
    "for tokenized_text in tweetsNew:\n",
    "    text = \"\"\n",
    "    for token in tokenized_text:\n",
    "        text += token + \" \"\n",
    "    TextTweetsNew.append(text)\n",
    "\n",
    "# tweets texts with gender \n",
    "TextTweetsNewWithGender = []\n",
    "for tweetAndGender in tweetsNewWithGender:\n",
    "    text = \"\"\n",
    "    gender =tweetAndGender[1] \n",
    "    for token in tweetAndGender[0]:\n",
    "        text += token + \" \"        \n",
    "    TextTweetsNewWithGender.append([text,gender])\n",
    "\n",
    "processedTweets = pd.DataFrame(TextTweetsNewWithGender, columns=['text', 'gender'])\n",
    "\n",
    "\n"
   ]
  },
  {
   "cell_type": "markdown",
   "metadata": {
    "_uuid": "76cb6ea96d5eb4c936877fb0b7c9a701784b02ef"
   },
   "source": [
    "## data exploration"
   ]
  },
  {
   "cell_type": "markdown",
   "metadata": {
    "_uuid": "a1a9c24e7df282b183d654456e2c77e1a5438540"
   },
   "source": [
    "**we would liketo  explorate the data by count the amount of each alsifications - female and male (excluding brand and unknown classifications).  Than, we will check the 10 most common word for each gender **"
   ]
  },
  {
   "cell_type": "markdown",
   "metadata": {
    "_uuid": "fc6ec1a7a029a711fa65fb685297999b4fb26ef6"
   },
   "source": [
    "> ### class distribution:"
   ]
  },
  {
   "cell_type": "markdown",
   "metadata": {
    "_uuid": "b23dce3d1168cd5019db948ce0066cb4b7d1704c"
   },
   "source": [
    "we would like to explore the"
   ]
  },
  {
   "cell_type": "code",
   "execution_count": 6,
   "metadata": {
    "_uuid": "894616452e1605a770590fd4ed792a8cc8db6c15"
   },
   "outputs": [
    {
     "name": "stdout",
     "output_type": "stream",
     "text": [
      "female    6540\n",
      "male      5954\n",
      "Name: gender, dtype: int64\n"
     ]
    },
    {
     "data": {
      "image/png": "[encoded data removed]",
      "text/plain": [
       "<Figure size 432x288 with 1 Axes>"
      ]
     },
     "metadata": {},
     "output_type": "display_data"
    },
    {
     "data": {
      "image/png": "[encoded data removed]",
      "text/plain": [
       "<Figure size 432x288 with 1 Axes>"
      ]
     },
     "metadata": {},
     "output_type": "display_data"
    }
   ],
   "source": [
    "\n",
    "#Exploration\n",
    "counter = Counter(data[\"gender\"])\n",
    "\n",
    "print(data[\"gender\"].value_counts())\n",
    "\n",
    "#Class Distribution:\n",
    "names = counter.keys()\n",
    "tweetNum = counter.values()\n",
    "\n",
    "# Plot histogram\n",
    "rowsNum = np.arange(len(names))\n",
    "plt.bar(rowsNum, tweetNum, 0.5, color='darkgreen')\n",
    "plt.title('Class Distribution')\n",
    "plt.xticks(rowsNum, names)\n",
    "\n",
    "#class distribution plot\n",
    "plt.show()\n",
    "\n",
    "# Data to plot\n",
    "labels = 'Male', 'Female'\n",
    "sizes = [list(tweetNum)[0],list(tweetNum)[1] ]\n",
    "colors = [ 'lightskyblue', 'lightcoral']\n",
    "explode = (0.1, 0)  # explode 1st slice\n",
    "\n",
    "# Plot\n",
    "plt.pie(sizes, explode=explode, labels=labels, colors=colors,\n",
    "        autopct='%1.1f%%', shadow=True, startangle=140)\n",
    "\n",
    "plt.axis('equal')\n",
    "plt.show()\n",
    "\n"
   ]
  },
  {
   "cell_type": "code",
   "execution_count": 7,
   "metadata": {
    "_uuid": "7c5d25fa8da35369f742bb3494000d35e763e378"
   },
   "outputs": [],
   "source": [
    "def TopWords(tweetsNew):\n",
    "    counter = Counter()\n",
    "    topwords = []\n",
    "    for tweet in tweetsNew:\n",
    "        for token in tokenization(tweet):\n",
    "            topwords.append(token)\n",
    "    counter.update(topwords)\n",
    "    return counter.most_common(10)"
   ]
  },
  {
   "cell_type": "markdown",
   "metadata": {
    "_uuid": "36d0900421b3d314557e8f87344dc9aba5c704a9"
   },
   "source": [
    "## terms frequency for the different genders:"
   ]
  },
  {
   "cell_type": "code",
   "execution_count": 8,
   "metadata": {
    "_uuid": "2cb269d0a0f71b57b9e552df8d3b7796379c4d27"
   },
   "outputs": [
    {
     "name": "stdout",
     "output_type": "stream",
     "text": [
      "Top 10 words befor tokenization: \n",
      "\n",
      "Top 10 words of Male:\n",
      "[('see', 164), ('back', 156), ('think', 156), ('would', 141), ('still', 137), ('last', 131), ('really', 116), ('way', 113), ('great', 112), ('lol', 111)]\n",
      "\n",
      "\n",
      "Top 10 words of Female:\n",
      "[('last', 175), ('back', 169), ('still', 160), ('___', 158), ('see', 157), ('today', 138), ('makes', 133), ('really', 132), ('think', 131), ('even', 130)]\n"
     ]
    }
   ],
   "source": [
    "print (\"Top 10 words befor tokenization: \\n\")\n",
    "print (\"Top 10 words of Male:\")\n",
    "maleTweets = data.loc[data['gender']== 'male']['text']\n",
    "print (TopWords(maleTweets))\n",
    "print('\\n')\n",
    "print (\"Top 10 words of Female:\")\n",
    "femaleTweets = data.loc[data['gender']=='female']['text']\n",
    "print (TopWords(femaleTweets))\n"
   ]
  },
  {
   "cell_type": "code",
   "execution_count": 9,
   "metadata": {
    "_uuid": "68c2f1cfab2d1de35d093a8138d8e0b3701408a7",
    "scrolled": false
   },
   "outputs": [
    {
     "name": "stdout",
     "output_type": "stream",
     "text": [
      "Top 10 words after tokenization: \n",
      "\n",
      "Top 10 words of Male 2:\n",
      "[('world', 139), ('music', 126), ('3b94d9', 125), ('back', 121), ('fan', 118), ('work', 117), ('still', 116), ('f5abb5', 114), ('see', 111), ('follow', 110)]\n",
      "\n",
      "\n",
      "Top 10 words of Female 2:\n",
      "[('f5abb5', 278), ('girl', 278), ('9266cc', 275), ('world', 234), ('still', 210), ('back', 205), ('see', 197), ('always', 196), ('follow', 196), ('last', 187)]\n"
     ]
    }
   ],
   "source": [
    "print (\"Top 10 words after tokenization: \\n\")\n",
    "\n",
    "# male top words after tokenizing\n",
    "print (\"Top 10 words of Male 2:\")\n",
    "maleTweets2 = processedTweets.loc[df['gender']== 'male']['text']\n",
    "print (TopWords(maleTweets2))\n",
    "print('\\n')\n",
    "\n",
    "# female top words after tokenizing\n",
    "print (\"Top 10 words of Female 2:\")\n",
    "femaleTweets2 = processedTweets.loc[processedTweets['gender']=='female']['text']\n",
    "print (TopWords(femaleTweets2))\n"
   ]
  },
  {
   "cell_type": "markdown",
   "metadata": {
    "_uuid": "bade93f2d7181a717254294169a53f84ce2b82c9"
   },
   "source": [
    "# Question 2: Train a machine learning model"
   ]
  },
  {
   "cell_type": "code",
   "execution_count": 10,
   "metadata": {
    "_uuid": "30121334c778c99f5cda0b69234306ff157d6384"
   },
   "outputs": [],
   "source": [
    "Tfidf_vectorizer = TfidfVectorizer()\n",
    "\n",
    "\n",
    "#creating train and test sets. The test size will be 0.2% of the data.\n",
    "X_train, X_test, y_train, y_test = train_test_split(TextTweetsNew,data[\"gender\"], test_size=0.20, shuffle = True)\n"
   ]
  },
  {
   "cell_type": "markdown",
   "metadata": {
    "_uuid": "fe7316b0c37aeefa4c901817118fb09376b0ccb7"
   },
   "source": [
    "**first, we will train the machine learning models: SVM, Naive Bayes. for each one of them, we try two feature exptraction methods: TF-IDF and Bag of Words. also, we will tune the parameters of the machine learning models and evencualy choose the best classifier and feature extraction method. the best combination will be the one with the best accurecy.**"
   ]
  },
  {
   "cell_type": "code",
   "execution_count": 11,
   "metadata": {
    "_uuid": "2c25cedb195671fd76bfb63c4b6d2befd3147ec6"
   },
   "outputs": [],
   "source": [
    "def calcModels():\n",
    "    bestAccuracy = 0.0\n",
    "    for clf, clf_name in ((SGDClassifier(),\"SVM\"), (MultinomialNB(),\"Naive Bayes\")):\n",
    "        print('=' * 80)\n",
    "        print(clf_name)\n",
    "        for fe ,fe_name in ((TfidfVectorizer(), \"TF-IDF\"), (CountVectorizer(),\"Bag of Words\")):\n",
    "            print('-' * 80)\n",
    "            print(fe_name)\n",
    "            parameters =  {'vect__max_df': (0.3,0.4,0.5,0.6,0.7,0.8,0.9,1.0),'clf__alpha': (0.00001,0.0001,0.001,0.01,0.1,1.0)}\n",
    "            nb_clf =Pipeline([('vect',fe ), ('clf',clf )])\n",
    "            gs_clf = GridSearchCV(nb_clf, parameters, n_jobs=1)\n",
    "            gs_clf = gs_clf.fit(X_train, y_train.tolist())\n",
    "            prediction = gs_clf.predict(X_test)\n",
    "            accuracy = metrics.accuracy_score(y_test.tolist(), prediction)\n",
    "            print('accuracy:', accuracy)\n",
    "            print('Best score: ',gs_clf.best_score_)\n",
    "            print('Best params: ',gs_clf.best_params_)\n",
    "\n",
    "            if accuracy > bestAccuracy:\n",
    "                    bestAccuracy = accuracy\n",
    "                    bestFeature = fe_name\n",
    "                    bestCLF = clf_name\n",
    "                    bestParams= gs_clf.best_params_\n",
    "    \n",
    "   \n",
    "    print(\"\")\n",
    "    print(\":best results\")\n",
    "    print(\"feature extraction method-\",bestFeature)\n",
    "    print(\"classifier-\",bestCLF)\n",
    "    print(\"accurecy-\",bestAccuracy)"
   ]
  },
  {
   "cell_type": "code",
   "execution_count": 12,
   "metadata": {
    "_uuid": "34499af4c36b51c7418b91f7bda1ec2414e7e31c",
    "scrolled": true
   },
   "outputs": [
    {
     "name": "stdout",
     "output_type": "stream",
     "text": [
      "================================================================================\n",
      "SVM\n",
      "--------------------------------------------------------------------------------\n",
      "TF-IDF\n",
      "accuracy: 0.6922769107643058\n",
      "Best score:  0.6648324162081041\n",
      "Best params:  {'clf__alpha': 0.0001, 'vect__max_df': 0.6}\n",
      "--------------------------------------------------------------------------------\n",
      "Bag of Words\n",
      "accuracy: 0.6758703481392557\n",
      "Best score:  0.6667333666833417\n",
      "Best params:  {'clf__alpha': 0.01, 'vect__max_df': 0.9}\n",
      "================================================================================\n",
      "Naive Bayes\n",
      "--------------------------------------------------------------------------------\n",
      "TF-IDF\n",
      "accuracy: 0.6978791516606643\n",
      "Best score:  0.6753376688344173\n",
      "Best params:  {'clf__alpha': 1.0, 'vect__max_df': 0.3}\n",
      "--------------------------------------------------------------------------------\n",
      "Bag of Words\n",
      "accuracy: 0.6958783513405362\n",
      "Best score:  0.6782391195597799\n",
      "Best params:  {'clf__alpha': 1.0, 'vect__max_df': 0.3}\n",
      "\n",
      ":best results\n",
      "feature extraction method- TF-IDF\n",
      "classifier- Naive Bayes\n",
      "accurecy- 0.6978791516606643\n"
     ]
    }
   ],
   "source": [
    "calcModels()"
   ]
  },
  {
   "cell_type": "markdown",
   "metadata": {
    "_uuid": "875f09f40dd44d7bd70e5bb06ab8b14f56a29c1b"
   },
   "source": [
    "**according to the results of the  tests above, the best machine learning model antil no, is SVM with feature exrtuction of TFIDF **"
   ]
  },
  {
   "cell_type": "markdown",
   "metadata": {
    "_uuid": "96ac7fb7d2652f0f8646b4f71f695d351632c41a"
   },
   "source": [
    "__ in the second step, we will train a deep learning machine learning model: ANN. the ANN network includs 1 input layer, 2 hedden layers and an output layer. also, we will use 'Dropout' to improve the network.\n",
    "fwe chose to vectorize the tweets with Tfidf and keep the top 5000 words in a dictionary in order to present every word. then, we will converts each word from string to number. finaly, all weets will be kept in a matrix, each one as a one-hot vector __"
   ]
  },
  {
   "cell_type": "code",
   "execution_count": 13,
   "metadata": {
    "_uuid": "b17475ec54069504fd95ff570764e705ec243944"
   },
   "outputs": [],
   "source": [
    "# only work with the 3000 most popular words found in our dataset\n",
    "\n",
    "# tokenizing and creating a dictionary\n",
    "tokenizer = Tokenizer(num_words=5000)\n",
    "tokenizer.fit_on_texts(TextTweetsNew)\n",
    "dictionary = tokenizer.word_index\n"
   ]
  },
  {
   "cell_type": "code",
   "execution_count": 14,
   "metadata": {
    "_uuid": "2234d759a979853aa5a777edd65e694cc6689016"
   },
   "outputs": [],
   "source": [
    "\n",
    "wordsList = []\n",
    "wordsListTest = []\n",
    "\n",
    "for text in X_train:\n",
    "    wordIndices = [dictionary[word] for word in kpt.text_to_word_sequence(text)]\n",
    "    wordsList.append(wordIndices)\n",
    "    \n",
    "for text in X_test:\n",
    "    wordIndices = [dictionary[word] for word in kpt.text_to_word_sequence(text)]\n",
    "    wordsListTest.append(wordIndices)\n",
    "    \n",
    "wordsList = np.asarray(wordsList)\n",
    "wordsListTest = np.asarray(wordsListTest)"
   ]
  },
  {
   "cell_type": "code",
   "execution_count": 15,
   "metadata": {
    "_uuid": "d6d003b441ba2dec899a548b29f97ef44307c664"
   },
   "outputs": [],
   "source": [
    "# convert tweets to one-hot presentation\n",
    "XTrainVec = tokenizer.sequences_to_matrix(wordsList, mode='binary')\n",
    "XTestVec =  tokenizer.sequences_to_matrix(wordsListTest, mode='binary')\n",
    "\n",
    "lb_make = LabelEncoder()\n",
    "\n",
    "YTrainNums = lb_make.fit_transform(y_train)\n",
    "YTestNums = lb_make.fit_transform(y_test)\n",
    "YTrainVec = keras.utils.to_categorical(YTrainNums, 2)\n",
    "YTestVec = keras.utils.to_categorical(YTestNums, 2)"
   ]
  },
  {
   "cell_type": "code",
   "execution_count": 16,
   "metadata": {
    "_uuid": "b74f4599ce05e1964eee4c7f629996c71e13ed9f"
   },
   "outputs": [],
   "source": [
    "#ANN\n",
    "model = Sequential()\n",
    "#Input layer + Fully Connected Hidden layer\n",
    "model.add(Dense(512, input_shape=(5000,), activation='sigmoid', name='dense_1'))\n",
    "#Using Dropout to avoid overfitting\n",
    "model.add(Dropout(0.5))\n",
    "#Fully Connected Hidden layer\n",
    "model.add(Dense(256, activation='sigmoid', name='dense_2'))\n",
    "#Using Dropout to avoid overfitting\n",
    "model.add(Dropout(0.5))\n",
    "#Output layer\n",
    "model.add(Dense(2, activation='softmax', name='dense_3'))"
   ]
  },
  {
   "cell_type": "code",
   "execution_count": 17,
   "metadata": {
    "_uuid": "b07e1ea7c3f39d165fa66732e9033d219640ea9b"
   },
   "outputs": [],
   "source": [
    "model.compile(loss='categorical_crossentropy',\n",
    "  optimizer='adam',\n",
    "  metrics=['accuracy'])"
   ]
  },
  {
   "cell_type": "code",
   "execution_count": 18,
   "metadata": {
    "_uuid": "14380edc08008dcac0956c75d4d0a39aeb08fa62"
   },
   "outputs": [
    {
     "name": "stdout",
     "output_type": "stream",
     "text": [
      "_________________________________________________________________\n",
      "Layer (type)                 Output Shape              Param #   \n",
      "=================================================================\n",
      "dense_1 (Dense)              (None, 512)               2560512   \n",
      "_________________________________________________________________\n",
      "dropout_1 (Dropout)          (None, 512)               0         \n",
      "_________________________________________________________________\n",
      "dense_2 (Dense)              (None, 256)               131328    \n",
      "_________________________________________________________________\n",
      "dropout_2 (Dropout)          (None, 256)               0         \n",
      "_________________________________________________________________\n",
      "dense_3 (Dense)              (None, 2)                 514       \n",
      "=================================================================\n",
      "Total params: 2,692,354\n",
      "Trainable params: 2,692,354\n",
      "Non-trainable params: 0\n",
      "_________________________________________________________________\n",
      "None\n"
     ]
    }
   ],
   "source": [
    "print(model.summary())"
   ]
  },
  {
   "cell_type": "code",
   "execution_count": 19,
   "metadata": {
    "_uuid": "e93b60b177e851da03668b990593488b5c5b658d"
   },
   "outputs": [
    {
     "name": "stdout",
     "output_type": "stream",
     "text": [
      "Train on 9995 samples, validate on 2499 samples\n",
      "Epoch 1/5\n",
      "9995/9995 [==============================] - 5s 492us/step - loss: 0.7825 - acc: 0.5039 - val_loss: 0.6843 - val_acc: 0.6246\n",
      "Epoch 2/5\n",
      "9995/9995 [==============================] - 5s 520us/step - loss: 0.6932 - acc: 0.5426 - val_loss: 0.6729 - val_acc: 0.6651\n",
      "Epoch 3/5\n",
      "9995/9995 [==============================] - 5s 528us/step - loss: 0.6649 - acc: 0.5969 - val_loss: 0.6419 - val_acc: 0.6747\n",
      "Epoch 4/5\n",
      "9995/9995 [==============================] - 5s 523us/step - loss: 0.6322 - acc: 0.6368 - val_loss: 0.6063 - val_acc: 0.6847\n",
      "Epoch 5/5\n",
      "9995/9995 [==============================] - 5s 524us/step - loss: 0.5831 - acc: 0.6840 - val_loss: 0.5881 - val_acc: 0.6839\n"
     ]
    },
    {
     "data": {
      "text/plain": [
       "<keras.callbacks.History at 0x7f29b19b3860>"
      ]
     },
     "execution_count": 19,
     "metadata": {},
     "output_type": "execute_result"
    }
   ],
   "source": [
    "model.fit(XTrainVec, YTrainVec,\n",
    "  batch_size=128,\n",
    "  epochs=5,\n",
    "  verbose=1,\n",
    "  validation_data=(XTestVec,YTestVec),\n",
    "  shuffle=True)"
   ]
  },
  {
   "cell_type": "code",
   "execution_count": 20,
   "metadata": {
    "_uuid": "2739c10c1b1b023da0eaaa7f62f95ad07e298687"
   },
   "outputs": [
    {
     "name": "stdout",
     "output_type": "stream",
     "text": [
      "2499/2499 [==============================] - 1s 254us/step\n",
      "test Accuracy: 68.39%\n"
     ]
    }
   ],
   "source": [
    "# After the network had been trained. we check the Test Set to see how much acc we get.\n",
    "\n",
    "\n",
    "scores = model.evaluate(XTestVec, YTestVec)\n",
    "print(\"test Accuracy: %.2f%%\" % (scores[1]*100))\n"
   ]
  },
  {
   "cell_type": "markdown",
   "metadata": {
    "_uuid": "53f841ad4a5757add4de7e17ccc21287954bb62b"
   },
   "source": [
    "__test accuracy - 68.51%__\n",
    "\n",
    "__the train accuracy is 0.89, as it writen in the last output (that represent the last layer),  at the 'acc' variable.   __"
   ]
  },
  {
   "cell_type": "markdown",
   "metadata": {
    "_uuid": "f8b8baefc22372570d0725b601e03a30ce73f170"
   },
   "source": [
    "# Question 3: Twitter streaming API"
   ]
  },
  {
   "cell_type": "code",
   "execution_count": 21,
   "metadata": {
    "_kg_hide-output": true,
    "_uuid": "9bc486e94ca8647500dbc268178958d38841e656"
   },
   "outputs": [
    {
     "ename": "ModuleNotFoundError",
     "evalue": "No module named 'tweepy'",
     "output_type": "error",
     "traceback": [
      "\u001b[0;31m---------------------------------------------------------------------------\u001b[0m",
      "\u001b[0;31mModuleNotFoundError\u001b[0m                       Traceback (most recent call last)",
      "\u001b[0;32m<ipython-input-21-a3e74739541e>\u001b[0m in \u001b[0;36m<module>\u001b[0;34m()\u001b[0m\n\u001b[0;32m----> 1\u001b[0;31m \u001b[0;32mimport\u001b[0m \u001b[0mtweepy\u001b[0m\u001b[0;34m\u001b[0m\u001b[0m\n\u001b[0m\u001b[1;32m      2\u001b[0m \u001b[0;32mfrom\u001b[0m \u001b[0mtweepy\u001b[0m \u001b[0;32mimport\u001b[0m \u001b[0mOAuthHandler\u001b[0m\u001b[0;34m\u001b[0m\u001b[0m\n\u001b[1;32m      3\u001b[0m \u001b[0;34m\u001b[0m\u001b[0m\n\u001b[1;32m      4\u001b[0m \u001b[0maccessToken\u001b[0m \u001b[0;34m=\u001b[0m \u001b[0;34m'1087294304647897088-j73CJ30CTHpzn3G9rdHCpfcOZrKwVQ'\u001b[0m\u001b[0;34m\u001b[0m\u001b[0m\n\u001b[1;32m      5\u001b[0m \u001b[0maccessSecret\u001b[0m \u001b[0;34m=\u001b[0m \u001b[0;34m'YO44ugYSDIPFDDHG6DSD0DI3U2XEBDY5GaeOXzcaPRUNw'\u001b[0m\u001b[0;34m\u001b[0m\u001b[0m\n",
      "\u001b[0;31mModuleNotFoundError\u001b[0m: No module named 'tweepy'"
     ]
    }
   ],
   "source": [
    "import tweepy\n",
    "from tweepy import OAuthHandler\n",
    "\n",
    "accessToken = '1087294304647897088-j73CJ30CTHpzn3G9rdHCpfcOZrKwVQ'\n",
    "accessSecret = 'YO44ugYSDIPFDDHG6DSD0DI3U2XEBDY5GaeOXzcaPRUNw'\n",
    "consumerKey = 'yW568xKmgz3OwlHCJPzpMq74T'\n",
    "consumerSecret = '5PZYvs8698EWrhIru9EMQ8dRzRoQW9eIfioRKh67eUxB3HlK4n'\n",
    "\n",
    "auth = OAuthHandler(consumerKey,consumerSecret)\n",
    "auth.set_access_token(accessToken,accessSecret)\n",
    "\n",
    "api = tweepy.API(auth)\n",
    "\n",
    "#Finding the most common country in the train set\n",
    "countryTrain, countryTest = train_test_split(data[\"tweet_location\"], test_size=0.30, shuffle = False)\n",
    "\n",
    "c= Counter()\n",
    "c.update(countryTrain)\n",
    "print (c.most_common(3))\n",
    "\n",
    "#Getting the steam tweets\n",
    "class Listener(tweepy.StreamListener):\n",
    "\n",
    "    def on_data(self, data):\n",
    "        try:\n",
    "            while (self.counter <=15000) :\n",
    "                with open('streamTweets.json', 'a') as f:\n",
    "                    f.write(data)\n",
    "                    self.counter+=1;\n",
    "                    print(self.counter)\n",
    "                    return True\n",
    "            return False\n",
    "        except BaseException as e:\n",
    "            print(\"Error %s\" % str(e))\n",
    "        return True\n",
    "\n",
    "    def on_error(self, status):\n",
    "        print(status)\n",
    "        return True\n",
    "\n",
    "    def __init__(self, api=None):\n",
    "        super(Listener, self).__init__()\n",
    "        self.counter = 0\n",
    "        self.limit = 15000\n",
    "\n",
    "    def on_status(self, status):\n",
    "        if self.counter < self.limit:\n",
    "            return True\n",
    "        else:\n",
    "            self.disconnect()\n",
    "\n",
    "\n",
    "\n",
    "#Listener = Listener()\n",
    "#Stream = tweepy.Stream(auth=api.auth, listener=Listener)\n",
    "\n",
    "# find tweets from UK\n",
    "#Stream.filter(locations=[-6.42, 49.86, 1.76, 55.81])\n",
    "\n"
   ]
  },
  {
   "cell_type": "code",
   "execution_count": 22,
   "metadata": {
    "_uuid": "8c29020d17c20eb67c912256c66ecd183b62a2aa"
   },
   "outputs": [
    {
     "name": "stdout",
     "output_type": "stream",
     "text": [
      "\n",
      "Top 10 words from stream tweeter:\n",
      "\n",
      "[('1da1f2', 6765), ('fan', 1167), ('football', 735), ('music', 704), ('today', 687), ('views', 683), ('fc', 600), ('1b95e0', 596), ('see', 533), ('club', 528)]\n"
     ]
    }
   ],
   "source": [
    "import json\n",
    "\n",
    "#tweets from stream\n",
    "stream_data = []\n",
    "stream_file = open('../input/streamtweetsjson/streamTweets.json', \"r\")\n",
    "for row in stream_file:\n",
    "    try:\n",
    "        stream_data.append(json.loads(row))\n",
    "    except:\n",
    "        continue\n",
    "\n",
    "tweetsDF = pd.DataFrame(columns=['text'])\n",
    "\n",
    "for i in stream_data:\n",
    "    text=i['text']\n",
    "    desc=i['user']['description'] if i['user']['description'] is not None else \"\";\n",
    "    link_color=i['user']['profile_link_color'] if i['user']['profile_link_color'] is not None else \"\";\n",
    "    sidebar_color=i['user']['profile_sidebar_border_color'] if i['user']['profile_sidebar_border_color'] is not None else \"\";\n",
    "    tweetsDF=tweetsDF.append({'text':text+' '+desc+' '+ link_color+' '+' '+sidebar_color},ignore_index=True)\n",
    "\n",
    "\n",
    "# tokenization\n",
    "tokenizedTweets = []\n",
    "for single_tweet in tweetsDF['text']:\n",
    "    tokenizedTweets.append(tokenization(single_tweet))\n",
    "\n",
    "allTokenTweets = []\n",
    "for token_tweet in tokenizedTweets:\n",
    "    all_tokens = \"\"\n",
    "    for i in token_tweet:\n",
    "        all_tokens += i + \" \"\n",
    "    allTokenTweets.append(all_tokens)\n",
    "\n",
    "\n",
    "#exploring\n",
    "print (\"\\nTop 10 words from stream tweeter:\\n\")\n",
    "print (TopWords(allTokenTweets))\n"
   ]
  },
  {
   "cell_type": "markdown",
   "metadata": {
    "_uuid": "66cf5c53ef92b668c9a8e28076f73337daa6a4fd"
   },
   "source": [
    "# Question 4: Prediction"
   ]
  },
  {
   "cell_type": "code",
   "execution_count": 23,
   "metadata": {
    "_uuid": "6e16d837a943dd712ae6a3a8bff31624e4422e91"
   },
   "outputs": [
    {
     "data": {
      "image/png": "[encoded data removed]",
      "text/plain": [
       "<Figure size 432x288 with 1 Axes>"
      ]
     },
     "metadata": {},
     "output_type": "display_data"
    }
   ],
   "source": [
    "nb_clf = Pipeline([('vect', CountVectorizer(max_df=0.4)), ('clf', MultinomialNB(alpha=1.0))])\n",
    "X_train, X_test, y_train, y_test = train_test_split(TextTweetsNew,data[\"gender\"], test_size=0.20, shuffle = True)\n",
    "nb_clf = nb_clf.fit(X_train, y_train.tolist())\n",
    "prediction = nb_clf.predict(allTokenTweets)\n",
    "male_count = np.count_nonzero(prediction == 'male')\n",
    "female_count = np.count_nonzero(prediction == 'female')\n",
    "\n",
    "# Data to plot\n",
    "labels = 'Male', 'Female'\n",
    "sizes = [male_count, female_count]\n",
    "colors = [ 'lightskyblue','lightcoral']\n",
    "explode = (0.1, 0)  # explode 1st slice\n",
    "\n",
    "# Plot\n",
    "plt.pie(sizes, explode=explode, labels=labels, colors=colors,\n",
    "        autopct='%1.1f%%', shadow=True, startangle=140)\n",
    "\n",
    "plt.axis('equal')\n",
    "plt.show()"
   ]
  }
 ],
 "metadata": {
  "kernelspec": {
   "display_name": "Python 3",
   "language": "python",
   "name": "python3"
  },
  "language_info": {
   "codemirror_mode": {
    "name": "ipython",
    "version": 3
   },
   "file_extension": ".py",
   "mimetype": "text/x-python",
   "name": "python",
   "nbconvert_exporter": "python",
   "pygments_lexer": "ipython3",
   "version": "3.6.6"
  }
 },
 "nbformat": 4,
 "nbformat_minor": 1
}
